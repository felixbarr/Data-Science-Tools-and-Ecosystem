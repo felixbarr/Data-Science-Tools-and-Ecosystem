{
 "cells": [
  {
   "cell_type": "markdown",
   "id": "dc968c1b",
   "metadata": {},
   "source": [
    "# Data Science Tools and Ecosystem"
   ]
  },
  {
   "cell_type": "markdown",
   "id": "0e531e83",
   "metadata": {},
   "source": [
    "## In this notebook, Data Science Tools and Ecosystem are summarized."
   ]
  },
  {
   "cell_type": "markdown",
   "id": "dcdc94d5",
   "metadata": {},
   "source": [
    "__Objectives:__\n",
    "\n",
    "- Languages of Data Science\n",
    "- Libraries, APIs, Datasets and Models\n",
    "- Jupyter Notebooks and JupyterLab\n",
    "- GitHub & RStudio\n",
    "- Cloud Based Tools for Data Science"
   ]
  },
  {
   "cell_type": "markdown",
   "id": "8e323d75",
   "metadata": {},
   "source": [
    "Some of the popular languages that Data Scientists use are:\n",
    "\n",
    "1. Python\n",
    "2. R\n",
    "3. JavaScrpit"
   ]
  },
  {
   "cell_type": "markdown",
   "id": "2d50b91e",
   "metadata": {},
   "source": [
    "Some of the commonly used libraries used by Data Scientists include:\n",
    "\n",
    "1. Tensor Flow\n",
    "2. NLTK\n",
    "3. ggplot"
   ]
  },
  {
   "cell_type": "markdown",
   "id": "0f31808b",
   "metadata": {},
   "source": [
    "| Data Science Tools |\n",
    "--------------------\n",
    "|RStudio|\n",
    "|Jupiter Notebooks|\n",
    "|Spyder|"
   ]
  },
  {
   "cell_type": "markdown",
   "id": "e1acba3a",
   "metadata": {},
   "source": [
    "### Below are a few examples of evaluating arithmetic expressions in Python"
   ]
  },
  {
   "cell_type": "code",
   "execution_count": 1,
   "id": "02f38f6a",
   "metadata": {},
   "outputs": [
    {
     "data": {
      "text/plain": [
       "17"
      ]
     },
     "execution_count": 1,
     "metadata": {},
     "output_type": "execute_result"
    }
   ],
   "source": [
    "# This a simple arithmetic expression to mutiply then add integers \n",
    "\n",
    "(3*4)+5"
   ]
  },
  {
   "cell_type": "code",
   "execution_count": 2,
   "id": "060512a2",
   "metadata": {},
   "outputs": [
    {
     "data": {
      "text/plain": [
       "3.3333333333333335"
      ]
     },
     "execution_count": 2,
     "metadata": {},
     "output_type": "execute_result"
    }
   ],
   "source": [
    "# This will convert 200 minutes to hours by diving by 60\n",
    "\n",
    "200/60"
   ]
  },
  {
   "cell_type": "markdown",
   "id": "26c82156",
   "metadata": {},
   "source": [
    "## Author\n",
    "\n",
    "Félix Barrière"
   ]
  }
 ],
 "metadata": {
  "kernelspec": {
   "display_name": "Python 3 (ipykernel)",
   "language": "python",
   "name": "python3"
  },
  "language_info": {
   "codemirror_mode": {
    "name": "ipython",
    "version": 3
   },
   "file_extension": ".py",
   "mimetype": "text/x-python",
   "name": "python",
   "nbconvert_exporter": "python",
   "pygments_lexer": "ipython3",
   "version": "3.11.5"
  }
 },
 "nbformat": 4,
 "nbformat_minor": 5
}
